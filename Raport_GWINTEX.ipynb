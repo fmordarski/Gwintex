{
 "cells": [
  {
   "cell_type": "markdown",
   "metadata": {
    "direction": "ltr"
   },
   "source": [
    "# <center> Raport firmy GWINTEX S.A.\n",
    "## <center> Analiza optymalnej liczby zestawów narzędziowych w zależności od kosztów przestoju i kosztów zestawu narzędzi\n",
    "\n",
    "<br>Zaawansowane Modelowanie Symulacyjne\n",
    "<br>234060-0723\n",
    "\n",
    "**Autorzy**\n",
    "<br>Filip Mordarski, 76671 \n",
    "<br>Damian Głowacki, 72384 \n",
    "<br>Mateusz Dalba, 68734\n",
    "<br>Dorota Szczęsna, 72569"
   ]
  },
  {
   "cell_type": "code",
   "execution_count": 7,
   "metadata": {},
   "outputs": [],
   "source": [
    "import numpy as np\n",
    "import random\n",
    "import warnings\n",
    "warnings.filterwarnings('ignore')"
   ]
  },
  {
   "cell_type": "code",
   "execution_count": 8,
   "metadata": {},
   "outputs": [],
   "source": [
    "# liczba maszyn\n",
    "n = 6 \n",
    "\n",
    "# średni czas pracy bez usterki\n",
    "avg_working_time = 75 # minut\n",
    "\n",
    "# średni czas naprawy\n",
    "avg_repair_time = 15 # minut\n",
    "\n",
    "# liczba zestawów narzędzi\n",
    "m = 6\n",
    "\n",
    "# horyzont analizy\n",
    "horizon = 30 # dni\n",
    "\n",
    "# liczba uruchomień symulacji\n",
    "iterations = 10   "
   ]
  },
  {
   "cell_type": "code",
   "execution_count": 9,
   "metadata": {
    "scrolled": true
   },
   "outputs": [],
   "source": [
    "def model(horizon, avg_working_time, avg_repair_time, n, m, setup):\n",
    "    # setup - układ liniowy \"L\" lub gniazdowy \"G\"\n",
    "    \n",
    "    # horyzont działania w minutach\n",
    "    horizon = horizon * 24 * 60 \n",
    "    \n",
    "    # wektor zdarzeń, który zmienia stan symulacji\n",
    "    events = list(np.random.exponential(avg_working_time, n))\n",
    "    \n",
    "    # status - określa aktualny stan maszyny \n",
    "    status = [\"W\"] * n\n",
    "\n",
    "    # t_start - określa początek bezczynności maszyny\n",
    "    t_start = [0] * n\n",
    "\n",
    "    # t_cum - skumulowany czas bezczynności maszyny\n",
    "    t_cum = [0] * n\n",
    "\n",
    "    # tools_loc lokalizacja narzedzi - albo numer maszyny albo -1 czyli warsztat\n",
    "    tools_loc = [-1] * m\n",
    "\n",
    "    # tools_occupied czas zajecia zestawu przez naprawianą maszynę\n",
    "    tools_occupied = [0] * m\n",
    "    \n",
    "    # zegar symulacji - najblizsze zadanie, które ma być wykonane\n",
    "    t = min(events)\n",
    "     \n",
    "    # rozpoczynamy symulacje \"skacząc\" po kolejnych zdarzeniach  \n",
    "    while t <= horizon:\n",
    "        \n",
    "        # jeżeli zestawy nie są aktualnie zajęte to przenosimy je z powrotem do warsztatu\n",
    "        for i in range(m):\n",
    "            if tools_occupied[i] <= t:\n",
    "                tools_loc[i] = -1\n",
    "\n",
    "        # wybieramy maszynę, której dotyczy zdarzenie\n",
    "        machines = []\n",
    "        for i in range(len(events)):\n",
    "            if events[i] == t:\n",
    "                machines.append(i)\n",
    "        machine = machines[random.randint(0, len(machines)-1)]\n",
    "        \n",
    "        \"\"\"\n",
    "        Gdy maszyna, której dotyczy zdarzenie ma status \"W\":\n",
    "            - to najpierw zaktualizuj wektor t_start dla tej maszyny jako początek jej bezczynności = t.\n",
    "            - następnie sprawdź czy dostępny jest jakiś zestaw naprawczy. Jezeli nie:\n",
    "                - to ustaw status maszyny na \"Q\" \n",
    "                - zaktualizuj wektor events podajac mu najkrótszy czas oczekiwania na wolny zestaw.\n",
    "              Jeżeli tak:\n",
    "                - ustaw status maszyny na \"R\"\n",
    "                - wyznacz czas  potrzebny na naprawę maszyny w zależności od ukladu taśmociągu \n",
    "                (czas transportu + czas naprawy)\n",
    "                - ustaw koniec naprawy jako zdarzenie dla danej maszyny\n",
    "                - zaktualizuj wektor tools_loc dla odpowiedniego zestawu podając numer maszyny, którą on obsługuje\n",
    "                - zaktualizuj wektor tools_occupied czasem jaki mu to zajmie (2* transport + naprawa)\n",
    "        \"\"\"\n",
    "        if status[machine] == \"W\":\n",
    "            t_start[machine] = t\n",
    "            tools = - 1\n",
    "            for i in range(m):\n",
    "                if tools_loc[i] == -1:\n",
    "                    tools = i\n",
    "                    break\n",
    "            if tools == -1 :\n",
    "                status[machine] = \"Q\"\n",
    "                events[machine] = min(tools_occupied)\n",
    "            else:\n",
    "                status[machine] = \"R\"\n",
    "                if setup == \"L\":\n",
    "                    transport_time = 2 * (1 + machine)\n",
    "                elif setup == \"G\":\n",
    "                    transport_time =  3\n",
    "                else:\n",
    "                    print(\"Niepoprawny układ! Należy wybrać układ 'L' lub 'G'!\")\n",
    "                    break\n",
    "                repair_time = np.random.gamma(3, avg_repair_time/3)\n",
    "                events[machine] += repair_time + transport_time\n",
    "                tools_loc[tools] = machine\n",
    "                tools_occupied[tools] = max(t, tools_occupied[tools]) + repair_time + 2 * transport_time\n",
    "                \n",
    "                \"\"\"\n",
    "                Gdy maszyna ma status \"Q\":\n",
    "                    - wybierz dostępny zestaw naprawczy\n",
    "                    - ustal status maszyny na \"R\"\n",
    "                    - zaktualizuj wektor tools_loc lokalizacją narzedzi i tools_occupied \n",
    "                    czasem jaki zajmie ich transport (w dwie strony) i naprawa maszyny\n",
    "                    -zaktualizuj wektor zdarzeń czasem potrzebnym na naprawę maszyny i transport narzedzi\n",
    "                \"\"\"\n",
    "                \n",
    "        elif status[machine] == \"Q\":\n",
    "            tools = - 1\n",
    "            for i in range(m):\n",
    "                if tools_loc[i] == -1:\n",
    "                    tools = i\n",
    "                    break\n",
    "            if tools == -1 :\n",
    "                status[machine] = \"Q\"\n",
    "                events[machine] = min(tools_occupied)\n",
    "            else:\n",
    "                status[machine] = \"R\"\n",
    "                if setup == \"L\":\n",
    "                    transport_time = 2 * (1 + machine)\n",
    "                elif setup == \"G\":\n",
    "                    transport_time =  3\n",
    "                else:\n",
    "                    print(\"zly uklad - moze byc L lub G!\")\n",
    "                    break\n",
    "                repair_time = np.random.gamma(3, avg_repair_time/3)\n",
    "                events[machine] += repair_time + transport_time\n",
    "                tools_loc[tools] = machine\n",
    "                tools_occupied[tools] = max(t, tools_occupied[tools]) + repair_time + 2 * transport_time \n",
    "            \"\"\"\n",
    "            Gdy maszyna ma status \"R\":\n",
    "                - ustal jej status na \"W\"\n",
    "                - wyznacz czas kolejnej awarii i zaktualizuj wektor events\n",
    "                - wylicz czas bezczynnosci i uzupelnij o niego liste t_cum\n",
    "            \"\"\"\n",
    "            \n",
    "        else:\n",
    "            status[machine] = \"W\"\n",
    "            events[machine] += np.random.exponential(avg_working_time)\n",
    "            t_cum[machine] += t - t_start[machine]\n",
    "        \n",
    "        # ustalamy nowe t\n",
    "        t = min(events)\n",
    "        \n",
    "    # wynik - liste skumulowanych bezczynnosci dla kazdej z maszyn\n",
    "    return (t_cum)"
   ]
  },
  {
   "cell_type": "code",
   "execution_count": 10,
   "metadata": {},
   "outputs": [],
   "source": [
    "def run_model (iterations, horizon, avg_working_time, avg_repair_time, n, m, setup):\n",
    "    avg_t_cum = []\n",
    "    for i in range (iterations):\n",
    "        avg_t_cum.append(model( horizon, avg_working_time, avg_repair_time, n, m, setup))\n",
    "    return list(map(np.mean, np.transpose(avg_t_cum)))\n"
   ]
  },
  {
   "cell_type": "code",
   "execution_count": 11,
   "metadata": {
    "scrolled": true
   },
   "outputs": [
    {
     "data": {
      "text/plain": [
       "[7838.422717702165,\n",
       " 8846.676925547124,\n",
       " 9281.424156797151,\n",
       " 9985.533832854386,\n",
       " 10867.367223976373,\n",
       " 11375.769701265945]"
      ]
     },
     "execution_count": 11,
     "metadata": {},
     "output_type": "execute_result"
    }
   ],
   "source": [
    "run_model(iterations, horizon, avg_working_time, avg_repair_time, n, m, \"L\")"
   ]
  }
 ],
 "metadata": {
  "kernelspec": {
   "display_name": "Python 3",
   "language": "python",
   "name": "python3"
  },
  "language_info": {
   "codemirror_mode": {
    "name": "ipython",
    "version": 3
   },
   "file_extension": ".py",
   "mimetype": "text/x-python",
   "name": "python",
   "nbconvert_exporter": "python",
   "pygments_lexer": "ipython3",
   "version": "3.8.3"
  }
 },
 "nbformat": 4,
 "nbformat_minor": 4
}
