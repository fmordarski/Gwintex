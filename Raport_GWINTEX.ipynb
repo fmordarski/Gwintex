{
 "cells": [
  {
   "cell_type": "markdown",
   "metadata": {
    "direction": "ltr"
   },
   "source": [
    "# <center> Raport firmy GWINTEX S.A.\n",
    "## <center> Analiza optymalnej liczby zestawów narzędziowych w zależności od kosztów przestoju i kosztów zestawu narzędzi\n",
    "\n",
    "<br>Zaawansowane Modelowanie Symulacyjne\n",
    "<br>234060-0723\n",
    "\n",
    "**Autorzy**\n",
    "<br>Filip Mordarski, 76671 \n",
    "<br>Damian Głowacki, 72384 \n",
    "<br>Mateusz Dalba, 68734\n",
    "<br>Dorota Szczęsna, 72569"
   ]
  },
  {
   "cell_type": "markdown",
   "metadata": {},
   "source": [
    "## 2. Opis organizacji\n",
    "\n",
    "Raport został przygotowany na potrzeby firmy GWINTEX S.A. Przedsiębiorstwo to jest potentatem w dziedzinie produkcji korkociągów. W tym celu wykorzystują bardzo nowoczesne maszyny metalurgiczne. Firma ma znaczne udziały zarówno na rynku polskim, jak i  europejskim. Przedsiębiorstwo GWINTEX S.A. wykorzystuje swój potencjał technologiczny jako przewagę konkurencyjną. W związku z postępującą zmianą kultury w piciu alkoholu Polaków, rośnie popyt na wina. Wiąże się to również ze znacznym wzrostem zamówień korkociągów. Poniższy raport pozwoli organizacji na zminimalizowanie swoich kosztów w zależności od sytuacji panującej na rynku. "
   ]
  },
  {
   "cell_type": "code",
   "execution_count": 1,
   "metadata": {},
   "outputs": [],
   "source": [
    "import numpy as np\n",
    "import random\n",
    "import scipy as sc\n",
    "import warnings\n",
    "import pandas as pd\n",
    "import seaborn as sns\n",
    "import matplotlib.pyplot as plt\n",
    "import matplotlib.cm as cm\n",
    "from sklearn.tree import DecisionTreeClassifier\n",
    "from sklearn import tree\n",
    "from sklearn.model_selection import train_test_split\n",
    "from matplotlib.colors import LinearSegmentedColormap\n",
    "warnings.filterwarnings('ignore')"
   ]
  },
  {
   "cell_type": "code",
   "execution_count": 2,
   "metadata": {},
   "outputs": [],
   "source": [
    "# liczba maszyn\n",
    "n = 6 \n",
    "\n",
    "# średni czas pracy bez usterki\n",
    "avg_working_time = 75 # minut\n",
    "\n",
    "# średni czas naprawy\n",
    "avg_repair_time = 15 # minut\n",
    "\n",
    "# horyzont analizy\n",
    "horizon = 30 # dni\n",
    "\n",
    "# liczba uruchomień symulacji\n",
    "iterations = 10"
   ]
  },
  {
   "cell_type": "code",
   "execution_count": 3,
   "metadata": {
    "scrolled": true
   },
   "outputs": [],
   "source": [
    "def model(horizon, avg_working_time, avg_repair_time, n, m, setup, c, cost_inst, m_cost, seed):\n",
    "    # setup - układ liniowy \"L\" lub gniazdowy \"G\"\n",
    "    \n",
    "    sc.random.seed(seed)\n",
    "    \n",
    "    # horyzont działania w minutach\n",
    "    horizon = horizon * 24 * 60 \n",
    "    \n",
    "    # wektor zdarzeń, który zmienia stan symulacji\n",
    "    events = list(np.random.exponential(avg_working_time, n))\n",
    "    \n",
    "    # status - określa aktualny stan maszyny \n",
    "    status = [\"W\"] * n\n",
    "\n",
    "    # t_start - określa początek bezczynności maszyny\n",
    "    t_start = [0] * n\n",
    "\n",
    "    # t_cum - skumulowany czas bezczynności maszyny\n",
    "    t_cum = [0] * n\n",
    "\n",
    "    # tools_loc lokalizacja narzedzi - albo numer maszyny albo -1 czyli warsztat\n",
    "    tools_loc = [-1] * m\n",
    "\n",
    "    # tools_occupied czas zajecia zestawu przez naprawianą maszynę\n",
    "    tools_occupied = [0] * m\n",
    "    \n",
    "    # zegar symulacji - najblizsze zadanie, które ma być wykonane\n",
    "    t = min(events)\n",
    "    \n",
    "    #koszt instalacji\n",
    "    cost_inst = cost_inst if setup=='G' else 0\n",
    "    \n",
    "    #koszt narzedzi\n",
    "    m_costs = m * m_cost\n",
    "     \n",
    "    # rozpoczynamy symulacje \"skacząc\" po kolejnych zdarzeniach  \n",
    "    while t <= horizon:\n",
    "        \n",
    "        # jeżeli zestawy nie są aktualnie zajęte to przenosimy je z powrotem do warsztatu\n",
    "        for i in range(m):\n",
    "            if tools_occupied[i] <= t:\n",
    "                tools_loc[i] = -1\n",
    "\n",
    "        # wybieramy maszynę, której dotyczy zdarzenie\n",
    "        machines = []\n",
    "        for i in range(len(events)):\n",
    "            if events[i] == t:\n",
    "                machines.append(i)\n",
    "        machine = machines[random.randint(0, len(machines)-1)]\n",
    "        \n",
    "        \"\"\"\n",
    "        Gdy maszyna, której dotyczy zdarzenie ma status \"W\":\n",
    "            - to najpierw zaktualizuj wektor t_start dla tej maszyny jako początek jej bezczynności = t.\n",
    "            - następnie sprawdź czy dostępny jest jakiś zestaw naprawczy. Jezeli nie:\n",
    "                - to ustaw status maszyny na \"Q\" \n",
    "                - zaktualizuj wektor events podajac mu najkrótszy czas oczekiwania na wolny zestaw.\n",
    "              Jeżeli tak:\n",
    "                - ustaw status maszyny na \"R\"\n",
    "                - wyznacz czas  potrzebny na naprawę maszyny w zależności od ukladu taśmociągu \n",
    "                (czas transportu + czas naprawy)\n",
    "                - ustaw koniec naprawy jako zdarzenie dla danej maszyny\n",
    "                - zaktualizuj wektor tools_loc dla odpowiedniego zestawu podając numer maszyny, którą on obsługuje\n",
    "                - zaktualizuj wektor tools_occupied czasem jaki mu to zajmie (2* transport + naprawa)\n",
    "        \"\"\"\n",
    "        if status[machine] == \"W\":\n",
    "            t_start[machine] = t\n",
    "            tools = - 1\n",
    "            for i in range(m):\n",
    "                if tools_loc[i] == -1:\n",
    "                    tools = i\n",
    "                    break\n",
    "            if tools == -1 :\n",
    "                status[machine] = \"Q\"\n",
    "                events[machine] = min(tools_occupied)\n",
    "            else:\n",
    "                status[machine] = \"R\"\n",
    "                if setup == \"L\":\n",
    "                    transport_time = 2 * (1 + machine)\n",
    "                elif setup == \"G\":\n",
    "                    transport_time =  3\n",
    "                else:\n",
    "                    print(\"Niepoprawny układ! Należy wybrać układ 'L' lub 'G'!\")\n",
    "                    break\n",
    "                repair_time = np.random.gamma(3, avg_repair_time/3)\n",
    "                events[machine] += repair_time + transport_time\n",
    "                tools_loc[tools] = machine\n",
    "                tools_occupied[tools] = max(t, tools_occupied[tools]) + repair_time + 2 * transport_time\n",
    "                \n",
    "                \"\"\"\n",
    "                Gdy maszyna ma status \"Q\":\n",
    "                    - wybierz dostępny zestaw naprawczy\n",
    "                    - ustal status maszyny na \"R\"\n",
    "                    - zaktualizuj wektor tools_loc lokalizacją narzedzi i tools_occupied \n",
    "                    czasem jaki zajmie ich transport (w dwie strony) i naprawa maszyny\n",
    "                    -zaktualizuj wektor zdarzeń czasem potrzebnym na naprawę maszyny i transport narzedzi\n",
    "                \"\"\"\n",
    "                \n",
    "        elif status[machine] == \"Q\":\n",
    "            tools = - 1\n",
    "            for i in range(m):\n",
    "                if tools_loc[i] == -1:\n",
    "                    tools = i\n",
    "                    break\n",
    "            if tools == -1 :\n",
    "                status[machine] = \"Q\"\n",
    "                events[machine] = min(tools_occupied)\n",
    "            else:\n",
    "                status[machine] = \"R\"\n",
    "                if setup == \"L\":\n",
    "                    transport_time = 2 * (1 + machine)\n",
    "                elif setup == \"G\":\n",
    "                    transport_time =  3\n",
    "                else:\n",
    "                    print(\"zly uklad - moze byc L lub G!\")\n",
    "                    break\n",
    "                repair_time = np.random.gamma(3, avg_repair_time/3)\n",
    "                events[machine] += repair_time + transport_time\n",
    "                tools_loc[tools] = machine\n",
    "                tools_occupied[tools] = max(t, tools_occupied[tools]) + repair_time + 2 * transport_time \n",
    "            \"\"\"\n",
    "            Gdy maszyna ma status \"R\":\n",
    "                - ustal jej status na \"W\"\n",
    "                - wyznacz czas kolejnej awarii i zaktualizuj wektor events\n",
    "                - wylicz czas bezczynnosci i uzupelnij o niego liste t_cum\n",
    "            \"\"\"\n",
    "            \n",
    "        else:\n",
    "            status[machine] = \"W\"\n",
    "            events[machine] += np.random.exponential(avg_working_time)\n",
    "            t_cum[machine] += t - t_start[machine]\n",
    "        \n",
    "        # ustalamy nowe t\n",
    "        t = min(events)\n",
    "        \n",
    "    t_cost = [t*c for t in t_cum]\n",
    "    cost = cost_inst + sum(t_cost) + m_costs\n",
    "    # wynik skumulowany czas oraz koszt\n",
    "    return (t_cum, cost)"
   ]
  },
  {
   "cell_type": "code",
   "execution_count": 4,
   "metadata": {},
   "outputs": [],
   "source": [
    "def run_model (iterations, horizon, avg_working_time, avg_repair_time, n, m, setup, c, cost_inst, m_cost):\n",
    "    avg_t_cum = []\n",
    "    avg_t_cost = []\n",
    "    for i in range (iterations):\n",
    "        x = model(horizon, avg_working_time, avg_repair_time, n, m, setup, c, cost_inst, m_cost, i)\n",
    "        avg_t_cum.append(x[0])\n",
    "        avg_t_cost.append(x[1])\n",
    "    return (list(map(np.mean, np.transpose(avg_t_cum))), np.mean(avg_t_cost))\n"
   ]
  },
  {
   "cell_type": "markdown",
   "metadata": {},
   "source": [
    "## 4. Wyniki analizy\n",
    "\n",
    "<br> Poniższy rozdział ma na celu przedstawienie wyników analizy przeprowadzonej dla opisanego powyżej problemu. Pomoże wskazać optymalną liczbę zestawów narzędzi, czy optymalnego rozmieszczenia maszyn w zależności od innych parametrów.\n",
    "\n",
    "### 4.1 Liczba zestawów narzędzi w zależności od kosztów przestoju i kosztów zestawu narzędzi\n",
    "<br> W tej części raportu zostaną przedstawione wyniki analizy, które mają na celu wskazać optymalną liczbę zestawów narzędzi w zależności od kosztów przestoju i kosztów zestawu narzędzi. Jak zostało powyżej wspomniane, przedsiębiorstwo ma dwie możliwości rozmieszczenia urządzeń na hali produkcyjnej, w układzie liniowym lub gniazdowym. Z tego względu poniższa analiza będzie uwzględniała również te obie możliwości rozmieszczenia. W poszukiwaniu optymalnej liczby zestawu narzędzi, przyjmiemy że koszt instalacji układu gniazdowego jest stały i wynosi 20,000 jednostek. Koszt za jedną jednostkę czasu przestoju będzie badany z zakresu wartości <3;6>, natomiast koszt jednego zestawu narzędzi z przedziału <5000;50000> z granulacją co 1000. Z opisu problemu wynika, że liczba zestawów narzędzi powinna być niższa niż liczba maszyn. Z tego względu analizowana będzie liczba zestawów narzędzi z przedziału <1;5>."
   ]
  },
  {
   "cell_type": "code",
   "execution_count": 5,
   "metadata": {},
   "outputs": [
    {
     "ename": "KeyboardInterrupt",
     "evalue": "",
     "output_type": "error",
     "traceback": [
      "\u001b[1;31m---------------------------------------------------------------------------\u001b[0m",
      "\u001b[1;31mKeyboardInterrupt\u001b[0m                         Traceback (most recent call last)",
      "\u001b[1;32m<ipython-input-5-3c8d6ecd9d31>\u001b[0m in \u001b[0;36m<module>\u001b[1;34m\u001b[0m\n\u001b[0;32m     10\u001b[0m         \u001b[1;32mfor\u001b[0m \u001b[0mm_cost\u001b[0m \u001b[1;32min\u001b[0m \u001b[0mtools_costs\u001b[0m\u001b[1;33m:\u001b[0m\u001b[1;33m\u001b[0m\u001b[1;33m\u001b[0m\u001b[0m\n\u001b[0;32m     11\u001b[0m             results[(m, c, m_cost, \"G\")] = run_model(iterations, horizon, avg_working_time, avg_repair_time, \n\u001b[1;32m---> 12\u001b[1;33m                                              n, m, \"G\", c, cost_inst, m_cost)[1]\n\u001b[0m\u001b[0;32m     13\u001b[0m             results[(m, c, m_cost, \"L\")] = run_model(iterations, horizon, avg_working_time, avg_repair_time, \n\u001b[0;32m     14\u001b[0m                                              n, m, \"L\", c, cost_inst, m_cost)[1]\n",
      "\u001b[1;32m<ipython-input-4-04f36bcf5325>\u001b[0m in \u001b[0;36mrun_model\u001b[1;34m(iterations, horizon, avg_working_time, avg_repair_time, n, m, setup, c, cost_inst, m_cost)\u001b[0m\n\u001b[0;32m      3\u001b[0m     \u001b[0mavg_t_cost\u001b[0m \u001b[1;33m=\u001b[0m \u001b[1;33m[\u001b[0m\u001b[1;33m]\u001b[0m\u001b[1;33m\u001b[0m\u001b[1;33m\u001b[0m\u001b[0m\n\u001b[0;32m      4\u001b[0m     \u001b[1;32mfor\u001b[0m \u001b[0mi\u001b[0m \u001b[1;32min\u001b[0m \u001b[0mrange\u001b[0m \u001b[1;33m(\u001b[0m\u001b[0miterations\u001b[0m\u001b[1;33m)\u001b[0m\u001b[1;33m:\u001b[0m\u001b[1;33m\u001b[0m\u001b[1;33m\u001b[0m\u001b[0m\n\u001b[1;32m----> 5\u001b[1;33m         \u001b[0mx\u001b[0m \u001b[1;33m=\u001b[0m \u001b[0mmodel\u001b[0m\u001b[1;33m(\u001b[0m\u001b[0mhorizon\u001b[0m\u001b[1;33m,\u001b[0m \u001b[0mavg_working_time\u001b[0m\u001b[1;33m,\u001b[0m \u001b[0mavg_repair_time\u001b[0m\u001b[1;33m,\u001b[0m \u001b[0mn\u001b[0m\u001b[1;33m,\u001b[0m \u001b[0mm\u001b[0m\u001b[1;33m,\u001b[0m \u001b[0msetup\u001b[0m\u001b[1;33m,\u001b[0m \u001b[0mc\u001b[0m\u001b[1;33m,\u001b[0m \u001b[0mcost_inst\u001b[0m\u001b[1;33m,\u001b[0m \u001b[0mm_cost\u001b[0m\u001b[1;33m,\u001b[0m \u001b[0mi\u001b[0m\u001b[1;33m)\u001b[0m\u001b[1;33m\u001b[0m\u001b[1;33m\u001b[0m\u001b[0m\n\u001b[0m\u001b[0;32m      6\u001b[0m         \u001b[0mavg_t_cum\u001b[0m\u001b[1;33m.\u001b[0m\u001b[0mappend\u001b[0m\u001b[1;33m(\u001b[0m\u001b[0mx\u001b[0m\u001b[1;33m[\u001b[0m\u001b[1;36m0\u001b[0m\u001b[1;33m]\u001b[0m\u001b[1;33m)\u001b[0m\u001b[1;33m\u001b[0m\u001b[1;33m\u001b[0m\u001b[0m\n\u001b[0;32m      7\u001b[0m         \u001b[0mavg_t_cost\u001b[0m\u001b[1;33m.\u001b[0m\u001b[0mappend\u001b[0m\u001b[1;33m(\u001b[0m\u001b[0mx\u001b[0m\u001b[1;33m[\u001b[0m\u001b[1;36m1\u001b[0m\u001b[1;33m]\u001b[0m\u001b[1;33m)\u001b[0m\u001b[1;33m\u001b[0m\u001b[1;33m\u001b[0m\u001b[0m\n",
      "\u001b[1;32m<ipython-input-3-74b46baeddc7>\u001b[0m in \u001b[0;36mmodel\u001b[1;34m(horizon, avg_working_time, avg_repair_time, n, m, setup, c, cost_inst, m_cost, seed)\u001b[0m\n\u001b[0;32m     47\u001b[0m             \u001b[1;32mif\u001b[0m \u001b[0mevents\u001b[0m\u001b[1;33m[\u001b[0m\u001b[0mi\u001b[0m\u001b[1;33m]\u001b[0m \u001b[1;33m==\u001b[0m \u001b[0mt\u001b[0m\u001b[1;33m:\u001b[0m\u001b[1;33m\u001b[0m\u001b[1;33m\u001b[0m\u001b[0m\n\u001b[0;32m     48\u001b[0m                 \u001b[0mmachines\u001b[0m\u001b[1;33m.\u001b[0m\u001b[0mappend\u001b[0m\u001b[1;33m(\u001b[0m\u001b[0mi\u001b[0m\u001b[1;33m)\u001b[0m\u001b[1;33m\u001b[0m\u001b[1;33m\u001b[0m\u001b[0m\n\u001b[1;32m---> 49\u001b[1;33m         \u001b[0mmachine\u001b[0m \u001b[1;33m=\u001b[0m \u001b[0mmachines\u001b[0m\u001b[1;33m[\u001b[0m\u001b[0mrandom\u001b[0m\u001b[1;33m.\u001b[0m\u001b[0mrandint\u001b[0m\u001b[1;33m(\u001b[0m\u001b[1;36m0\u001b[0m\u001b[1;33m,\u001b[0m \u001b[0mlen\u001b[0m\u001b[1;33m(\u001b[0m\u001b[0mmachines\u001b[0m\u001b[1;33m)\u001b[0m\u001b[1;33m-\u001b[0m\u001b[1;36m1\u001b[0m\u001b[1;33m)\u001b[0m\u001b[1;33m]\u001b[0m\u001b[1;33m\u001b[0m\u001b[1;33m\u001b[0m\u001b[0m\n\u001b[0m\u001b[0;32m     50\u001b[0m \u001b[1;33m\u001b[0m\u001b[0m\n\u001b[0;32m     51\u001b[0m         \"\"\"\n",
      "\u001b[1;32mD:\\ANACONDA_TA\\lib\\random.py\u001b[0m in \u001b[0;36mrandint\u001b[1;34m(self, a, b)\u001b[0m\n\u001b[0;32m    220\u001b[0m         \"\"\"\n\u001b[0;32m    221\u001b[0m \u001b[1;33m\u001b[0m\u001b[0m\n\u001b[1;32m--> 222\u001b[1;33m         \u001b[1;32mreturn\u001b[0m \u001b[0mself\u001b[0m\u001b[1;33m.\u001b[0m\u001b[0mrandrange\u001b[0m\u001b[1;33m(\u001b[0m\u001b[0ma\u001b[0m\u001b[1;33m,\u001b[0m \u001b[0mb\u001b[0m\u001b[1;33m+\u001b[0m\u001b[1;36m1\u001b[0m\u001b[1;33m)\u001b[0m\u001b[1;33m\u001b[0m\u001b[1;33m\u001b[0m\u001b[0m\n\u001b[0m\u001b[0;32m    223\u001b[0m \u001b[1;33m\u001b[0m\u001b[0m\n\u001b[0;32m    224\u001b[0m     def _randbelow(self, n, int=int, maxsize=1<<BPF, type=type,\n",
      "\u001b[1;31mKeyboardInterrupt\u001b[0m: "
     ]
    }
   ],
   "source": [
    "unit_costs = range(3, 7)\n",
    "tools_costs = range(5000, 51000, 1000)\n",
    "tools = range(1, 6)\n",
    "results = {}\n",
    "cost_inst = 20000\n",
    "data = pd.DataFrame()\n",
    "\n",
    "for m in tools:\n",
    "    for c in unit_costs:\n",
    "        for m_cost in tools_costs:\n",
    "            results[(m, c, m_cost, \"G\")] = run_model(iterations, horizon, avg_working_time, avg_repair_time, \n",
    "                                             n, m, \"G\", c, cost_inst, m_cost)[1]\n",
    "            results[(m, c, m_cost, \"L\")] = run_model(iterations, horizon, avg_working_time, avg_repair_time, \n",
    "                                             n, m, \"L\", c, cost_inst, m_cost)[1]\n",
    "            data = data.append({\"Liczba narzedzi\": m, \"Koszt jedn.\": c, \"Koszt zestawu\": m_cost, \"Ustawienie\": \"G\",\n",
    "                            \"Calkowity koszt\": results[(m, c, m_cost, \"G\")]}, ignore_index=True)\n",
    "            data = data.append({\"Liczba narzedzi\": m, \"Koszt jedn.\": c, \"Koszt zestawu\": m_cost, \"Ustawienie\": \"L\",\n",
    "                            \"Calkowity koszt\": results[(m, c, m_cost, \"L\")]}, ignore_index=True)"
   ]
  },
  {
   "cell_type": "markdown",
   "metadata": {},
   "source": [
    "W pierwszej kolejności zostanie przeanalizowana optymalna liczba narzędzi w układzie liniowym."
   ]
  },
  {
   "cell_type": "code",
   "execution_count": null,
   "metadata": {
    "scrolled": false
   },
   "outputs": [],
   "source": [
    "dfs = {i: data[(data['Ustawienie']=='L') & (data['Koszt jedn.']==i)].reset_index().\\\n",
    "       pivot(\"Liczba narzedzi\", \"Koszt zestawu\", \"Calkowity koszt\") for i in range(3, 7)}"
   ]
  },
  {
   "cell_type": "code",
   "execution_count": null,
   "metadata": {
    "scrolled": true
   },
   "outputs": [],
   "source": [
    "fig2, axes = plt.subplots(nrows=2, ncols=2, figsize=(15, 12))\n",
    "for i, ax in enumerate(axes.flatten()):\n",
    "    sns.heatmap(dfs[i+3], cmap=cm.plasma_r, ax=ax)\n",
    "    ax.set_title(f\"Koszt jednostkowy przestoju równy {i+3}\")\n",
    "    if i < 2:\n",
    "        ax.get_xaxis().set_visible(False)\n",
    "fig2.text(.1, -0.01, \"Rysunek 1. Całkowity koszt przedsiębiorstwa dla układu liniowego w zależności od \\n\"\n",
    "                     \"liczby zestawów narzędzi, kosztu jednostkowego przestoju oraz kosztu zestawu narzędzi.\\n\"\n",
    "                     \"Gdy koszt zestawu narzędzi przymuje wartości z przedziału około 5000 - 20000,\\n \" \n",
    "                     \"optymalna liczba narzędzi wynosi 4\", ha='left')        \n"
   ]
  },
  {
   "cell_type": "markdown",
   "metadata": {},
   "source": [
    "Na podstawie powyższych wykresów, można wysnuć wniosek że optymalna liczba zestawów narzędzi dla układu liniowego nie zależy od poziomu kosztu jednostkowego przestoju. Wykresy, wygenerowane dla różnych wartości kosztu jednostkowego przestoju, różnią się oczywiście wartościami średniego całkowitego kosztu, ale przebieg relatywnych zmian jest podobny. Można to zaobserwować po zmianach natężenia barw. Liczba zestawu narzędzi różni się natomiast w zależności od kosztu pojedynczego zestawu narzędzi. Gdy koszt zestawu narzędzi oscyluje w okolicach od 5000 do 20000, optymalna liczba narzędzi wynosi 4 we wszystkich przypadkach jednostkowego kosztu przestoju. Natomiast gdy koszt zestawu przekracza 20000, optymalna liczba narzedzi wynosi 3. Przeanalizujmy jak wygląda dokładny przebieg optymalnego rozwiązania dla układu liniowego oraz różnych kosztów przestoju maszyny."
   ]
  },
  {
   "cell_type": "code",
   "execution_count": null,
   "metadata": {
    "scrolled": false
   },
   "outputs": [],
   "source": [
    "dfs_grouped = {}\n",
    "for i in range(3, 7):\n",
    "    df = data[(data['Ustawienie']=='L') & (data['Koszt jedn.']==i)]\n",
    "    grouped = df.groupby(['Koszt zestawu'])['Calkowity koszt'].min().reset_index()\n",
    "    final = grouped.merge(df[['Calkowity koszt', \"Liczba narzedzi\"]], \n",
    "                          on='Calkowity koszt', how='left')\n",
    "    dfs_grouped[i] = final\n",
    "fig1 = plt.figure(figsize=(7, 6))\n",
    "ax1 = fig1.add_axes((0.1, 0.2, 0.8, 0.7))\n",
    "for i in range(3, 7):\n",
    "    ax1.plot(dfs_grouped[i]['Koszt zestawu'], dfs_grouped[i]['Liczba narzedzi'], label=i)\n",
    "ax1.legend(loc=1, title='Koszt przestoju')\n",
    "plt.ylabel('Optymalna liczba narzędzi')\n",
    "plt.xlabel('Koszt zestawu')\n",
    "plt.title('Optymalna liczba narzędzi w zależności od kosztu zestawu oraz \\n'\n",
    "          'kosztu jednostkowego w układzie liniowym')\n",
    "plt.yticks([2, 3, 4])\n",
    "fig1.text(.01, .001, \n",
    "          \"Rysunek 2. Optymalna liczba narzędzi w zależności od kosztu zestawu oraz kosztu jednostkowego \\n\"\n",
    "          \"w układzie liniowym. Optymalna liczba narzędzi znajduje się w zakresie <2;4>, zazwyczaj gdy \\n\"\n",
    "          \"koszt przestoju jest niższy optymalna liczba narzędzi jest mniejsza.\")"
   ]
  },
  {
   "cell_type": "markdown",
   "metadata": {},
   "source": [
    "Na podstawie powyższego wykresu, można zauważyć, że dla mniejszych wartości jednostkowego kosztu przestoju, optymalna liczba narzędzi jest niższa. Przykładowo, dla kosztu jednostkowego równego 3, optymalna liczba narzędzi spada z 4 do 3 gdy koszt zestawu jest niższy niż 10000. Natomiast, gdy koszt jednostkowego przestoju wynosi 6, optymalna liczba narzędzi spada do 3, gdy koszt zestawu wynosi około 20000. Generalnie, najczęściej występującym rozwiązaniem optymalnem jest wartość 3. Taka liczba zestawów narzędzi jest rekomendowana dla przedsiębiorstwa, gdy maszyny są ustawione w układzie liniowym. Analogicznie zostanie przeprowadzona analiza dla układu gniazdowego."
   ]
  },
  {
   "cell_type": "code",
   "execution_count": null,
   "metadata": {},
   "outputs": [],
   "source": [
    "dfs_g = {i: data[(data['Ustawienie']=='G') & (data['Koszt jedn.']==i)].reset_index().\\\n",
    "       pivot(\"Liczba narzedzi\", \"Koszt zestawu\", \"Calkowity koszt\") for i in range(3, 7)}\n",
    "fig2, axes = plt.subplots(nrows=2, ncols=2, figsize=(15, 12))\n",
    "for i, ax in enumerate(axes.flatten()):\n",
    "    sns.heatmap(dfs_g[i+3], cmap=cm.plasma_r, ax=ax)\n",
    "    ax.set_title(f\"Koszt jednostkowy przestoju równy {i+3}\")\n",
    "    if i < 2:\n",
    "        ax.get_xaxis().set_visible(False)\n",
    "fig2.text(.1, -0.01, \"Rysunek 3. Całkowity koszt przedsiębiorstwa dla układu gniazdowego w zależności od \\n\"\n",
    "                     \"liczby zestawów narzędzi, kosztu jednostkowego przestoju oraz kosztu zestawu narzędzi.\\n\"\n",
    "                     \"Gdy koszt zestawu narzędzi przymuje wartości z przedziału około 5000 - 20000,\\n \" \n",
    "                     \"optymalna liczba narzędzi najczęściej wynosi 3\", ha='left')        "
   ]
  },
  {
   "cell_type": "markdown",
   "metadata": {},
   "source": [
    "Na podstawie powyższych wykresów, można wysnuć wniosek, że w układzie gniazdowym mamy do czynienia z podobną sytuacją jak w układzie liniowym. Przebieg zmiany natężenia barw w powyższych 'heatmapach' sugeruje, że optymalna liczba urządzeń zmienia się w podobny sposób dla różnych kosztów jednostkowego przestoju. Warto zauważyć, że wartości na skali barw są mniejsze dla każdego z przedstawionych wykresów. Może to sugerować, że układ gniazdowy jest optymalniejszym rozstawieniem niż układ liniowy. Zostaną przeanalizowane dokładne rozwiązanie optymalne w zależności od kosztu przestoju oraz kosztu zestawu narzędzi dla układu gniazdowego."
   ]
  },
  {
   "cell_type": "code",
   "execution_count": null,
   "metadata": {
    "scrolled": true
   },
   "outputs": [],
   "source": [
    "dfs_grouped = {}\n",
    "for i in range(3, 7):\n",
    "    df = data[(data['Ustawienie']=='G') & (data['Koszt jedn.']==i)]\n",
    "    grouped = df.groupby(['Koszt zestawu'])['Calkowity koszt'].min().reset_index()\n",
    "    final = grouped.merge(df[['Calkowity koszt', \"Liczba narzedzi\"]], \n",
    "                          on='Calkowity koszt', how='left')\n",
    "    dfs_grouped[i] = final\n",
    "fig1 = plt.figure(figsize=(7, 6))\n",
    "ax1 = fig1.add_axes((0.1, 0.2, 0.8, 0.7))\n",
    "for i in range(3, 7):\n",
    "    ax1.plot(dfs_grouped[i]['Koszt zestawu'], dfs_grouped[i]['Liczba narzedzi'], label=i)\n",
    "ax1.legend(loc=1, title='Koszt przestoju')\n",
    "plt.ylabel('Optymalna liczba narzędzi')\n",
    "plt.xlabel('Koszt zestawu')\n",
    "plt.title('Optymalna liczba narzędzi w zależności od kosztu zestawu oraz \\n'\n",
    "          'kosztu jednostkowego w układzie gniazdowym')\n",
    "plt.yticks([2, 3, 4])\n",
    "fig1.text(.01, .001, \n",
    "          \"Rysunek 4. Optymalna liczba narzędzi w zależności od kosztu zestawu oraz kosztu jednostkowego \\n\"\n",
    "          \"w układzie gniazdowym. Optymalna liczba narzędzi znajduje się w zakresie <2;4>, zazwyczaj gdy \\n\"\n",
    "          \"koszt przestoju jest niższy optymalna liczba narzędzi jest mniejsza.\")"
   ]
  },
  {
   "cell_type": "markdown",
   "metadata": {},
   "source": [
    "Z powyższego wykresu wynika, że najczęstsza optymalna liczba narzędzi to 3. Co ciekawe, podobnie często występującym rozwiązaniem optymalnym była liczba 2. Powyższy wykres dla układu gniazdowego również sugeruje, że wraz z większym kosztem przestoju maszyny optymalna liczba narzędzi jest wyższa dla danego kosztu zestawu. W celu pogłębionej analizy problemu optymalnej liczby narzędzi została podjęta próba utworzenia drzewa decyzyjnego.  "
   ]
  },
  {
   "cell_type": "code",
   "execution_count": null,
   "metadata": {
    "scrolled": true
   },
   "outputs": [],
   "source": [
    "grouped = data.groupby([\"Ustawienie\", 'Koszt zestawu', \"Koszt jedn.\"])['Calkowity koszt'].min().reset_index()\n",
    "grouped = grouped.merge(data[['Calkowity koszt', \"Liczba narzedzi\"]], \n",
    "                          on='Calkowity koszt', how='left')\n",
    "d = {'L': 0, 'G': 1}\n",
    "grouped['Ustawienie'] = grouped['Ustawienie'].map(d)\n",
    "features = [\"Ustawienie\", 'Koszt zestawu', \"Koszt jedn.\"]\n",
    "# X = grouped[features]\n",
    "# y = grouped[\"Liczba narzedzi\"]\n",
    "X_train, X_test, Y_train, Y_test = train_test_split(grouped[features], grouped[\"Liczba narzedzi\"], random_state=0)\n",
    "dtree = DecisionTreeClassifier(max_depth=4, random_state=0)\n",
    "dtree = dtree.fit(X_train, Y_train)\n",
    "score = dtree.score(X_test, Y_test)\n",
    "fig1 = plt.figure(figsize=(15, 10))\n",
    "tree.plot_tree(dtree, feature_names=features,\n",
    "              class_names=['2 zestawy', '3 zestawy', '4 zestawy'])\n",
    "plt.title('Drzewo decyzyjne dla optymalnej liczby narzędzi')\n",
    "fig1.text(.01, .001, \n",
    "          \"Rysunek 5. Drzewo decyzyjne dla optymalnej liczby narzędzi.\")\n",
    "fig1.savefig('tree.png')"
   ]
  },
  {
   "cell_type": "markdown",
   "metadata": {},
   "source": [
    "W pierwszej kolejności zestaw danych został podzielony na zbiór uczący (75 % pierwotnego zbioru) oraz testowy (25 % pierwotnego zbioru). Następnie został utworzony model drzewa decyzyjnego z maksymalną głebokością korzeni równą 4, aby model nie został zbyt przeuczony. Na powyższym wykresie jest zwizualizowane drzewo decyzyjyne. Nie jest ono zbyt czytelne w jupyter notebooku, więc zostało zapisane do oddzielnego pliku. Takie drzewo decyzyjne będzie pomocne dla przedsiębiorstwa w kwestii podjęcia dezycji odnośnie optymalnej liczby narzędzi. Zostanie przedstawiona jedna wybrana reguła z powyższego drzewa: jeżeli koszt zestawu jest z przedziału (11500;16500> oraz jednostkowy koszt przestoju jest większy niż 4.5 w układzie liniowym, to przedsiębiorstwo powinno kupić 4 zestawy narzędzi."
   ]
  },
  {
   "cell_type": "markdown",
   "metadata": {},
   "source": [
    "### 4.2 Analiza wpływu ilości symulacji oraz schematu na średnie koszta. Odchylenie standardowe. "
   ]
  },
  {
   "cell_type": "markdown",
   "metadata": {},
   "source": [
    "W celu zbadania wpływu Iteracji oraz schematu na Śr.Koszt, początkowo\n",
    "przeprowadzono symulację przy założeniu stałych jednostkowych kosztów przestoju,\n",
    "wynoszących 6 zł/min. Liczba symulacji = 50.\n",
    "Koszt narzędzi na poziomie 5000 zł oraz stałą różnicę pomiędzy \n",
    "kosztem instalacji układu gniazdowego a liniowego wynoszącą 20 000 zł. Rozłożenie kosztów\n",
    "przedstawione zostało na poniższym wykresie."
   ]
  },
  {
   "cell_type": "code",
   "execution_count": null,
   "metadata": {},
   "outputs": [],
   "source": [
    "n = 6 \n",
    "avg_working_time = 75 # minut\n",
    "avg_repair_time = 15 # minut\n",
    "m = 6\n",
    "horizon = 30 # dni\n",
    "iterations = 50\n",
    "\n",
    "\n",
    "df = pd.DataFrame()\n",
    "\n",
    "def run_model_2 (iterations, horizon, avg_working_time, avg_repair_time, n, m, setup, c, cost_inst, m_cost):\n",
    "    avg_t_cum = []\n",
    "    avg_t_cost = []\n",
    "    std_avg_t_cost = []\n",
    "    for i in range (iterations):\n",
    "        x = model(horizon, avg_working_time, avg_repair_time, n, m, setup, c, cost_inst, m_cost, i)\n",
    "        avg_t_cum.append(x[0])\n",
    "        avg_t_cost.append(x[1])\n",
    "        df_g = df.append({'avg_t_cost': avg_t_cost, 'avg_t_cum' : avg_t_cum }, ignore_index=True)\n",
    "    return df_g\n",
    "    #return (list(map(np.mean, np.transpose(avg_t_cum))), np.mean(avg_t_cost), np.std(avg_t_cost))"
   ]
  },
  {
   "cell_type": "code",
   "execution_count": null,
   "metadata": {},
   "outputs": [],
   "source": [
    "sns.set_style('whitegrid')\n",
    "\n",
    "cost_inst = 20_000\n",
    "m_cost = 5000\n",
    "c = 6\n",
    "\n",
    "df_wynik = run_model_2(iterations, horizon, avg_working_time, avg_repair_time, n, m, 'L', c, cost_inst, m_cost)\n",
    "\n",
    "df_wynik2 = run_model_2(iterations, horizon, avg_working_time, avg_repair_time, n, m, 'G', c, cost_inst, m_cost)\n",
    "\n",
    "sr_koszt = df_wynik['avg_t_cost'][0]\n",
    "sr_koszt2 = df_wynik2['avg_t_cost'][0]\n",
    "\n",
    "i = np.linspace(1,50, num=50)\n",
    "x = pd.DataFrame({'Śr.Koszt' : sr_koszt, 'Iteracja' : i })\n",
    "x2 = pd.DataFrame({'Śr.Koszt' : sr_koszt2, 'Iteracja' : i })\n",
    "\n",
    "x['Setup'] = 'L'\n",
    "x2['Setup'] = 'G'\n",
    "\n",
    "df = pd.concat([x,x2])"
   ]
  },
  {
   "cell_type": "code",
   "execution_count": null,
   "metadata": {},
   "outputs": [],
   "source": [
    "plt.figure(figsize=(12,6))\n",
    "sns.lineplot(data=df, x='Iteracja', y='Śr.Koszt', hue='Setup')\n",
    "plt.title('Śr.Koszt w zależności od Iteracji i Setupu \\n')\n",
    "plt.show()"
   ]
  },
  {
   "cell_type": "markdown",
   "metadata": {},
   "source": [
    "Z analizy wynika, że schemat Gniazdowy dla ok. 28 iteracji przyjmuje najniższe koszta.\n",
    "\n",
    "W dalszym kroku przeprowadzono analizę wartości odchylenia standardowego\n",
    "całkowitych kosztów w zależności od liczby powtórzeń symulacji. W tym celu dokonano n-krotnej symulacji, gdzie n znajdowało się w przedziale [1, 30]. Przyjęto przy tym stały koszt\n",
    "jednostkowy przestoju na poziomie 6 zł/min, koszt narzędzi kształtujący się na poziomie 5 000\n",
    "zł oraz stałą różnicę pomiędzy kosztem instalacji układu gniazdowego a liniowego wynoszącą\n",
    "20 000 zł. "
   ]
  },
  {
   "cell_type": "code",
   "execution_count": null,
   "metadata": {},
   "outputs": [],
   "source": [
    "iterations = 30\n",
    "\n",
    "df_odch = run_model_2(iterations, horizon, avg_working_time, avg_repair_time, n, m, 'L', c, cost_inst, m_cost)\n",
    "\n",
    "odch = df_odch['avg_t_cum'][0]\n",
    "df_new = pd.DataFrame(odch)\n",
    "df_new['Std'] = np.std(df_new,axis=1)\n",
    "df_new = df_new.reset_index().rename(columns={'index':'iteration'})\n",
    "df_new['iteration'] = 1 + df_new['iteration']\n",
    "\n",
    "plt.figure(figsize=(12,6))\n",
    "sns.lineplot(data = df_new, x='iteration',y ='Std', c='red')\n",
    "plt.show()"
   ]
  },
  {
   "cell_type": "markdown",
   "metadata": {},
   "source": [
    "### 5.2 Analiza wyboru optymalnego układu produkcyjnego w zależności od jednostkowego kosztu przestoju i różnicy w koszcie instalacji.\n",
    "<br> W tej części raportu przeanalizowano wpływ zmiany jednostkowego kosztu przestoju oraz różnicy w koszcie instalacji na wybór optymalnego układu produkcyjnego. Zgodnie z logiką firma chce minimalizować koszty, a więc wybierze ten układ dla którego będą one najmniejsze. Dlatego analizowaną wielkością na podstawie której można dokonać wyboru będzie koszt całkowity jaki ponosi przedsiębiorstwo przy danym układzie produkcyjnym. Do przeprowadzenia symulacji przyjęto zakres kosztu jednostkowego  od 1 do 11 zł za minutę. Natomiast przedział kosztu instalacji ustalono w granicach od 16  do 60  tys. zł z granulacją co 1 tys. zł. Dodatkowo przyjęto, że firma posiada 6 zestawów narzędzi, a koszt jednego zestawu ustalono na poziomie 20 tys. zł (przy czym należy zaznaczyć, że w tym wypadku koszt zestawu nie ma wpływu na wybór układu produkcyjnego gdyż nie zmienia on realnej różnicy w koszcie całkowitym pomiędzy danymi układami)"
   ]
  },
  {
   "cell_type": "code",
   "execution_count": 5,
   "metadata": {},
   "outputs": [],
   "source": [
    "unit_costs = range(1, 12)\n",
    "m_cost = 20000\n",
    "results = {}\n",
    "cost_instalments = range(16000, 60001, 1000)\n",
    "data_G = pd.DataFrame()\n",
    "data_L = pd.DataFrame()\n",
    "m = 6  #stała liczba narzędzi\n",
    "\n",
    "\n",
    "\n",
    "for cost_inst in cost_instalments:\n",
    "    for c in unit_costs:\n",
    "        results[(m, c, cost_inst, \"G\")] = run_model(iterations, horizon, avg_working_time, avg_repair_time, \n",
    "                                         n, m, \"G\", c, cost_inst, m_cost)[1]\n",
    "        \n",
    "        results[(m, c, cost_inst, \"L\")] = run_model(iterations, horizon, avg_working_time, avg_repair_time, \n",
    "                                         n, m, \"L\", c, cost_inst, m_cost)[1]\n",
    "        #print(\"Dla liczby zestawów narzędzi równej \", m, \"oraz kosztu jednostkowego przestoju: \", c, \n",
    "        #      \"i kosztu instalacji: \", cost_inst, \" całkowity koszt w układzie gniazdowym wynosi: \", \n",
    "        #      round(results[(m, c, cost_inst, \"G\")], 2), \" a w układzie liniowym wynosi: \", \n",
    "        #      round(results[(m, c, cost_inst, \"L\")], 2))\n",
    "        data_G = data_G.append({\"Koszt jedn.\": c, \"Koszt instalacji\": cost_inst, \"Ustawienie\": \"G\",\n",
    "                        \"Calkowity koszt\": results[(m, c, cost_inst, \"G\")]}, ignore_index=True)\n",
    "        data_L = data_L.append({\"Koszt jedn.\": c, \"Koszt instalacji\": cost_inst, \"Ustawienie\": \"L\",\n",
    "                        \"Calkowity koszt\": results[(m, c, cost_inst, \"L\")]}, ignore_index=True)\n",
    "        "
   ]
  },
  {
   "cell_type": "code",
   "execution_count": 6,
   "metadata": {},
   "outputs": [],
   "source": [
    "#Przygotowanie danych\n",
    "\n",
    "data_G_L = pd.DataFrame({'Koszty_G': data_G['Calkowity koszt'], 'Koszty_L': data_L['Calkowity koszt'], \n",
    "                         'Koszt_Inst': data_G['Koszt instalacji'], 'Koszt_Jedn.': data_G['Koszt jedn.']})\n",
    "\n",
    "data_G_L = data_G_L.assign(Min = lambda d: d[['Koszty_G', 'Koszty_L']].min(1))\n",
    "data_G_L['Ustawienie'] = np.where(data_G_L['Koszty_G'] == data_G_L['Min'], 1, 0) # G = 1, L = 0\n",
    "GL = data_G_L.pivot(\"Koszt_Inst\", \"Koszt_Jedn.\",  \"Ustawienie\")"
   ]
  },
  {
   "cell_type": "code",
   "execution_count": 75,
   "metadata": {},
   "outputs": [
    {
     "data": {
      "image/png": "[encoded data removed]",
      "text/plain": [
       "<Figure size 720x720 with 2 Axes>"
      ]
     },
     "metadata": {
      "needs_background": "light"
     },
     "output_type": "display_data"
    }
   ],
   "source": [
    "fig, ax = plt.subplots(figsize=(10,10))  \n",
    "\n",
    "ax.set_title(\"Wybór optymalnego układu ze względu na koszty przestoju oraz koszt instalacji\")\n",
    "\n",
    "colors = ((0.6, 0.9, 0.0), (0, 0.6, 1.0))\n",
    "cmap = LinearSegmentedColormap.from_list('Custom', colors, len(colors))\n",
    "\n",
    "sns.heatmap(GL, linewidths=.6, cmap = cmap)\n",
    "colorbar = ax.collections[0].colorbar\n",
    "colorbar.set_ticks([0.25,0.75])\n",
    "colorbar.set_ticklabels(['L', 'G'])\n",
    "\n",
    "\n",
    "plt.ylabel(\"Różnica w koszcie instalacji\")\n",
    "\n",
    "plt.xlabel(\"Jednostkowy koszt przestoju maszyny\")\n",
    "\n",
    "fig.text(.1, -0.01, \"Rysunek 6. Optymalne ustawienie ze względu na koszty przestoju oraz koszt instalacji. \\n\"\n",
    "                     \"Kolor zielony odpowiada Liniowemu układowi produkcyjnemu, a kolor niebieski Gniazdowemu. \\n\", ha='left')\n",
    "j = 0"
   ]
  },
  {
   "cell_type": "markdown",
   "metadata": {},
   "source": [
    "Na rysunku nr 6 widać, który układ produkcyjny będzie optymalny przy danych parametrach. Można zauważyć, że wraz ze wzrostem kosztu przestoju przewagę nad układem liniowym uzyskuje układ gniazdowy co jest zgodne z intuicją, gdyż przy takim układzie każda maszyna jest zlokalizowana w takiej samej (stosunkowo niedużej) odległości od warsztatu a więc czas dostarczenia narzędzi do zepsutej maszyny jest krótszy niż w przypadku układu liniowego co z kolei przekłada się na niższe koszty całkowite. \n",
    "\n",
    "Na podstawie powyższego rysunku, znając przybliżone wielkości kosztu przestoju i dodatkowego kosztu instalacji układu gniazdowego oraz przy założeniu stałej liczby narzędzi, firma będzie w stanie dość precyzyjnie ustalić optymalny układ produkcyjny. \n",
    "\n",
    "Z wykresu wynika również pewnego rodzaju stosunek pomiędzy kosztem instalacji a kosztem przestoju, a mianowicie można zauważyć, że jeśli koszt przestoju spadnie o jedną jednostkę to różnica w koszcie instalacji może spaść maksymalnie o około 8 tys. a rozwiązanie optymalne się nie zmieni. Przykładowo jeśli koszt przestoju wynosi 5, a koszt instalacji wynosi 40 tys. to rozwiązaniem optymalnym jest układ gniazdowy. Jeśli koszt przestoju spadnie o 1, koszt instalacji może (ale nie musi) wynieść 48 tys. i nadal układ gniazdowy będzie układem optymalnym.\n",
    "\n",
    "Aby jeszcze lepiej zobrazować tą liniową zależność, poniżej skonstruowano wykres dla przykładowej wartości instalacji równej 40 tys."
   ]
  },
  {
   "cell_type": "code",
   "execution_count": 57,
   "metadata": {},
   "outputs": [
    {
     "data": {
      "image/png": "[encoded data removed]",
      "text/plain": [
       "<Figure size 720x720 with 1 Axes>"
      ]
     },
     "metadata": {
      "needs_background": "light"
     },
     "output_type": "display_data"
    }
   ],
   "source": [
    "test = data_G_L[data_G_L['Koszt_Inst'] == 40000]\n",
    "\n",
    "x_labels = test['Różnica'].tolist()\n",
    "\n",
    "fig, ax = plt.subplots(figsize=(10,10))  \n",
    "plt.bar(test['Koszt_Jedn.'], test['Różnica'])\n",
    "ax.set_title(\"Różnica w koszcie całkowitym pomiędzy układem gniazdowym a układem liniowym.\")\n",
    "plt.ylabel(\"Koszt całkowty\")\n",
    "plt.xlabel(\"Jednostkowy koszt przestoju maszyny\")\n",
    "\n",
    "fig.text(.1, -0.01, \"Rysunek 7. Różnica w koszcie całkowitym pomiędzy układem gniazdowym a układem liniowym \\n\"\n",
    "                     \"ze względu na koszty przestoju, przy stałym koszcie instalacji. \\n\", ha='left')\n",
    "\n",
    "\n",
    "def add_value_labels(ax, spacing=5):\n",
    "    \"\"\"Add labels to the end of each bar in a bar chart.\n",
    "\n",
    "    Arguments:\n",
    "        ax (matplotlib.axes.Axes): The matplotlib object containing the axes\n",
    "            of the plot to annotate.\n",
    "        spacing (int): The distance between the labels and the bars.\n",
    "    \"\"\"\n",
    "\n",
    "    # For each bar: Place a label\n",
    "    for rect in ax.patches:\n",
    "        # Get X and Y placement of label from rect.\n",
    "        y_value = rect.get_height()\n",
    "        x_value = rect.get_x() + rect.get_width() / 2\n",
    "\n",
    "        # Number of points between bar and label. Change to your liking.\n",
    "        space = spacing\n",
    "        # Vertical alignment for positive values\n",
    "        va = 'bottom'\n",
    "\n",
    "        # If value of bar is negative: Place label below bar\n",
    "        if y_value < 0:\n",
    "            # Invert space to place label below\n",
    "            space *= -1\n",
    "            # Vertically align label at top\n",
    "            va = 'top'\n",
    "\n",
    "        # Use Y value as label and format number with one decimal place\n",
    "        label = \"{:.1f}\".format(y_value)\n",
    "\n",
    "        # Create annotation\n",
    "        ax.annotate(\n",
    "            label,                      # Use `label` as label\n",
    "            (x_value, y_value),         # Place label at end of the bar\n",
    "            xytext=(0, space),          # Vertically shift label by `space`\n",
    "            textcoords=\"offset points\", # Interpret `xytext` as offset in points\n",
    "            ha='center',                # Horizontally center label\n",
    "            va=va)                      # Vertically align label differently for\n",
    "                                        # positive and negative values.\n",
    "\n",
    "\n",
    "# Call the function above. All the magic happens there.\n",
    "add_value_labels(ax)\n"
   ]
  },
  {
   "cell_type": "markdown",
   "metadata": {},
   "source": [
    "Wykres nr 7 przedstawia różnice w koszcie całkowitym pomiędzy układem gniazdowym a układem liniowym w zależności od zmiany jednostkowego kosztu przestoju dla stałej wartości kosztu instalacji równej 40 tys. zł. Wzrost kosztu przestoju o 1 skutkuje wzrostem kosztu całkowitego o około 8 tys. wynika z tego, że wartość ta jest współczynnikiem nachylenia krzywej.\n",
    "\n",
    "Z wykresu można również odczytać, że dla wartości kosztu instalacji równej 40 tys. zł optymalne rozwiązania dla układu liniowego znajdują się poniżej osi x, czyli dla kosztu przestoju mniejszego lub równego 4 zł, zaś optymalne rozwiązania dla układu gniazdowego znajdują się powyżej osi x, czyli dla kosztu przestoju większego lub równego 5 zł."
   ]
  },
  {
   "cell_type": "markdown",
   "metadata": {},
   "source": [
    "# Podsumowanie i rekomdenacje\n",
    "\n",
    "\n",
    "Niniejszy raport przedstawia obszerną analizę różnych podejść technologicznych firmy GWINTEX S.A. w kontekście kosztu całkowitego instalacji oraz utrzymywanie nowej hali produkcyjnej. \n",
    "\n",
    "Zgodnie z analizami wynika, że optymalna liczba zestawów narzędzi dla układu liniowego nie zależy od poziomu kosztu jednostkowego przestoju. Gdy koszt narzędzi jest między 5 000 PLN a 20 000 PLN, to optymalna liczba narzędzi wynosi 4, natomiast gdy koszt zestawu przekracza 20 000 PLN  to optymalna liczba narzędzie wynosi 3. Dodatkowo widzimy, że dla mniejszych wartości jednostkowego kosztu przestoju, optymalna liczba narzędzi jest niższa. Najcześciej występującym rozwiązaniem optymalnym jest wartość 3. Taka liczba zestawów narzędzi jest rekomendowana dla przedsiębiorstwa, gdy maszyny są ustawione w układzie liniowym.\n",
    "\n",
    "W układzie gniazdowym natomiast mamy do czynienia z podobną sytuacją jak w układzie liniowym. Optymalna liczba urządzeń zmienia się w podobny sposób dla różnych kosztów jednostkowego przestoju. Tutaj również najczęstszą optymalną liczbą narzędzi jest wartość 3. Podobnie często występującym rozwiązaniem optymalnym jest liczba 2. \n",
    "\n",
    "W celu wyboru najbardziej optymalnego rozwiązania został stworzony model Drzewa Decyzyjnego, w którym zbiór danych został podzielony w proporcjach 75:25 (trening / test), z maksymalną głebokością równą 4 - aby nie przeuczyć modelu. Model ten jest pomocny dla przedsiębiorstwa w kwestii podjęcia jednogłośnej decyzji nt. liczby narzędzi. Jeżeli koszt zestawu jest z przedziału 11 500 PLN, a 16 500 PLN oraz Jednostkowy koszt przestoju jest wiekszy niż 4.5 w układzie liniowym, to przedsiębiorstwo powinno zakupić 4 zestawy narzędzi. \n",
    "\n",
    "Dodatkowym wnioskiem z analizy jest fakt, że wraz ze wzrostem kosztu przestoju przewage nad układem liniowym uzyskuje kład gniazdowy. W takim układzie każda maszyna jest zlokalizowana w niedużej odłegłości od siebie tj. czas dostarczania narzędzi do maszyny jest krótszy niż w układzie liniowym. \n",
    "\n",
    "Następnym wnioskiem wynikającym z analizy jest stosunek między kosztem instalacji a kosztem przestoju - można zauważyć, że jeśli koszt przestoju spadnie o 1 jednostkę to róznica w koszcie instalacji może spaść maksymalnie o ok. 8 000 PLN, a rozwiązanie optymalne się nie zmieni. \n",
    "\n",
    "Dla takich założeń wskazano, że optymalnym rozwiązaniem jest instalacja układu\n",
    "gniazdowego linii produkcyjnej oraz zakup 3 zestawów narzędziowych\n",
    "\n",
    "Mamy nadzieje, że powyższa analiza symulacyjna i przesdstawione wnioski oraz rekomdancje umożliwią firmie GWINTEX S.A. na podjęcie najbardziej optymalnych decyzji w związku z budową nowej hali produkcyjnej. \n",
    "\n",
    "\n"
   ]
  },
  {
   "cell_type": "code",
   "execution_count": null,
   "metadata": {},
   "outputs": [],
   "source": []
  }
 ],
 "metadata": {
  "kernelspec": {
   "display_name": "Python 3",
   "language": "python",
   "name": "python3"
  },
  "language_info": {
   "codemirror_mode": {
    "name": "ipython",
    "version": 3
   },
   "file_extension": ".py",
   "mimetype": "text/x-python",
   "name": "python",
   "nbconvert_exporter": "python",
   "pygments_lexer": "ipython3",
   "version": "3.7.7"
  }
 },
 "nbformat": 4,
 "nbformat_minor": 4
}
